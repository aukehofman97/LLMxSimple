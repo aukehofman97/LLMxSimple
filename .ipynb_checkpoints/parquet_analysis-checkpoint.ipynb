{
 "cells": [
  {
   "cell_type": "markdown",
   "metadata": {},
   "source": [
    "# Semantic Graph Analysis\n",
    "Creating a graph of relationships between data fields based on vocabulary definitions."
   ]
  },
  {
   "cell_type": "code",
   "execution_count": 1,
   "metadata": {},
   "outputs": [],
   "source": [
    "# Import required libraries\n",
    "import pandas as pd\n",
    "import networkx as nx\n",
    "import matplotlib.pyplot as plt\n",
    "import csv"
   ]
  },
  {
   "cell_type": "code",
   "execution_count": 2,
   "metadata": {},
   "outputs": [
    {
     "name": "stdout",
     "output_type": "stream",
     "text": [
      "Headers from parquet file:\n",
      "- Kenmerk\n",
      "- Actie\n",
      "- Klantnr\n",
      "- Naam\n",
      "- Land\n",
      "- Straat\n",
      "- Postcode\n",
      "- Plaats\n",
      "- Gewicht\n",
      "- Euro DV\n",
      "- Blok DV\n"
     ]
    }
   ],
   "source": [
    "# Read the parquet file and display headers\n",
    "df = pd.read_parquet('processed_orders.parquet')\n",
    "headers = df.columns.tolist()\n",
    "print(\"Headers from parquet file:\")\n",
    "for header in headers:\n",
    "    print(f\"- {header}\")"
   ]
  },
  {
   "cell_type": "code",
   "execution_count": 4,
   "metadata": {},
   "outputs": [
    {
     "name": "stdout",
     "output_type": "stream",
     "text": [
      "Vocabulary relationships loaded:\n",
      "Number of semantic concepts: 37\n",
      "{'actorLegalPerson': ['SIMPLE:actorname'], 'actorRole': ['SIMPLE:actorRoles'], 'address': ['SIMPLE: actorAddress', 'SIMPLE:addressName'], 'addressNumber': ['SIMPLE:addressNumber'], 'cargoTemperature': ['SIMPLE:temperature'], 'city': ['SIMPLE:city'], 'containerNumber': ['SIMPLE:equipmentID'], 'containerType': ['SIMPLE:codeITU'], 'country': ['SIMPLE:country'], 'damageRemarks': ['SIMPLE:damageRemarks'], 'digitalContactId': ['SIMPLE:actorWebsite', 'SIMPLE:actorEmail', 'SIMPLE:actorPhoneNumber'], 'documentID': ['SIMPLE:externalConsignmentId', 'SIMPLE:externalShipmentId'], 'externalReference': ['Flowertrucks:Kenmerk'], 'Goods': ['Flowertrucks:goods'], 'goodsDescription': ['SIMPLE:goodDescription'], 'goodsNumbers': ['SIMPLE:idNumber'], 'goodsTypeCode': ['SIMPLE:goodTypecode'], 'grossWeight': ['SIMPLE:grossWeight', 'SIMPLE:goodGrossMass'], 'hasDangerousGoodsRegulationCode': ['SIMPLE:dangerousGoods'], 'hasNumberOfCollies': ['Flowertrucks:noOfColli'], 'hasTransportmeansNationality': ['SIMPLE:nationality'], 'involvesTimestamp': ['Flowertrucks:loadingDate'], 'isEmpty': ['SIMPLE:isEmpty'], 'lcomotiveId': ['SIMPLE:transportMeansId'], 'name': ['Flowertrucks:Naam', 'Flowertrucks:loadingLocation'], 'numberofPackages': ['SIMPLE:numberOfPackages'], 'packageCode': ['SIMPLE:packagingType'], 'packageTypeName': ['Flowertrucks:euroDV/blokDV'], 'sealIndicator': ['SIMPLE:sealIndicator'], 'shippingMarks': ['SIMPLE:shippingMark'], 'size': ['SIMPLE:goodSize'], 'terminalName': ['SIMPLE:nodeCode'], 'trailerLicensePlate': ['SIMPLE:trailerId'], 'transportMeansMode': ['SIMPLE:transportModality'], 'typeOfCargo': ['SIMPLE:cargoType'], 'wagonId': ['SIMPLE:wagonId'], 'zipCode': ['SIMPLE:zipcode', 'Flowertrucks:Postcode']}\n"
     ]
    }
   ],
   "source": [
    "# Read and process vocabulary file\n",
    "vocabulary = {}\n",
    "with open('Vocabulary2.csv', 'r') as file:\n",
    "    csv_reader = csv.reader(file, delimiter=';')\n",
    "    for row in csv_reader:\n",
    "        if row:  # Skip empty rows\n",
    "            key = row[0]\n",
    "            # Filter out empty values\n",
    "            values = [v for v in row[1:] if v]\n",
    "            if values:  # Only add if there are related terms\n",
    "                vocabulary[key] = values\n",
    "\n",
    "print(\"Vocabulary relationships loaded:\")\n",
    "print(f\"Number of semantic concepts: {len(vocabulary)}\")\n",
    "print(vocabulary)"
   ]
  },
  {
   "cell_type": "code",
   "execution_count": null,
   "metadata": {},
   "outputs": [],
   "source": []
  }
 ],
 "metadata": {
  "kernelspec": {
   "display_name": "Python 3 (ipykernel)",
   "language": "python",
   "name": "python3"
  },
  "language_info": {
   "codemirror_mode": {
    "name": "ipython",
    "version": 3
   },
   "file_extension": ".py",
   "mimetype": "text/x-python",
   "name": "python",
   "nbconvert_exporter": "python",
   "pygments_lexer": "ipython3",
   "version": "3.9.1"
  }
 },
 "nbformat": 4,
 "nbformat_minor": 4
}
